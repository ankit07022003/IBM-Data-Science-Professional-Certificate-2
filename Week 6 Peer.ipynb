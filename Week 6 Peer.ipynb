{
 "cells": [
  {
   "cell_type": "markdown",
   "id": "7b6471d9",
   "metadata": {},
   "source": [
    "# Data Science Tools and Ecosystem\n",
    "\n",
    "In this notebook, Data Science Tools and Ecosystem are summarized.\n",
    "\n",
    "Objectives:\n",
    "\n",
    "List popular languages for Data Science\n",
    "List popular libraries for Data Science\n",
    "List popular tools fod Data Science\n",
    "do a simple arithmetic expression to multiply and then add integers\n",
    "convert 200 minutes to hours by diving by 60\n",
    "\n",
    "\n",
    "\n",
    "Some of the popular languages that Data Scientists use are:\n",
    "1.Python\n",
    "2.R\n",
    "3.Scala\n",
    "4.SQL\n",
    "5.Scala\n",
    "6.C++\n",
    "7.Julia\n",
    "8.JavaScript\n",
    "9.Php\n",
    "10.Go\n",
    "11.Ruby\n",
    "12.Visual Basic\n",
    "\n",
    "\n",
    "Some of the commonly used libraries used by Data Scientists include:\n",
    "1.Pandas\n",
    "2.Numpy\n",
    "3.Maatplotlib\n",
    "4.Seaborn\n",
    "5.Scikit-Learn\n",
    "6.Keras\n",
    "7.TensorFlow\n",
    "8.PyTorch\n",
    "9.Apache Spark\n",
    "10.Vegas\n",
    "11.Big DL\n",
    "12.Ggplot2\n",
    "\n",
    "Data Science Tools\n",
    "1.Anaconda\n",
    "2.Jupiter Notebook\n",
    "3.Rstudio\n",
    "4.Spyder\n",
    "5.Zappelin\n",
    "\n",
    "Below are a few examples of evaluating arithmetic expressions in Python\n",
    "\n",
    "\n",
    "Objectives :\n",
    "\n",
    "Add comments to code cells\n",
    "Create markdown cells\n",
    "Add ordered and unordered lists to markdown cells\n",
    "Format content markdown cells with heading styles"
   ]
  },
  {
   "cell_type": "code",
   "execution_count": 1,
   "id": "568d9cee",
   "metadata": {},
   "outputs": [
    {
     "data": {
      "text/plain": [
       "17"
      ]
     },
     "execution_count": 1,
     "metadata": {},
     "output_type": "execute_result"
    }
   ],
   "source": [
    "# This a simple arithmetic expression to mutiply then add integers\n",
    "(3*4)+5"
   ]
  },
  {
   "cell_type": "code",
   "execution_count": 2,
   "id": "fdfb26b2",
   "metadata": {},
   "outputs": [
    {
     "data": {
      "text/plain": [
       "3.33"
      ]
     },
     "execution_count": 2,
     "metadata": {},
     "output_type": "execute_result"
    }
   ],
   "source": [
    "# This will convert 200 minutes to hours by diving by 60\n",
    "round(200/60, 2)"
   ]
  },
  {
   "cell_type": "markdown",
   "id": "f61a131b",
   "metadata": {},
   "source": [
    "# Author(s)\n",
    "Ankit Ghumaliya"
   ]
  }
 ],
 "metadata": {
  "kernelspec": {
   "display_name": "Python 3 (ipykernel)",
   "language": "python",
   "name": "python3"
  },
  "language_info": {
   "codemirror_mode": {
    "name": "ipython",
    "version": 3
   },
   "file_extension": ".py",
   "mimetype": "text/x-python",
   "name": "python",
   "nbconvert_exporter": "python",
   "pygments_lexer": "ipython3",
   "version": "3.9.7"
  }
 },
 "nbformat": 4,
 "nbformat_minor": 5
}
